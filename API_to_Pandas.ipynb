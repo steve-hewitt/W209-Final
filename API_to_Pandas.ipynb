{
 "cells": [
  {
   "cell_type": "code",
   "execution_count": 2,
   "metadata": {},
   "outputs": [],
   "source": [
    "import requests\n",
    "import json\n",
    "import pandas as pd"
   ]
  },
  {
   "cell_type": "code",
   "execution_count": 72,
   "metadata": {},
   "outputs": [],
   "source": [
    "# Search parameters - API limits request to 10 years and 25 series at a time.\n",
    "series_ids = ['CUUR0000SA0','SUUR0000SA0']\n",
    "start_year = 2010\n",
    "end_year = 2019"
   ]
  },
  {
   "cell_type": "code",
   "execution_count": 73,
   "metadata": {},
   "outputs": [],
   "source": [
    "# Build message to send to API.\n",
    "headers = {'Content-type': 'application/json'}\n",
    "data = json.dumps({\"seriesid\": series_ids,\"startyear\":start_year, \"endyear\":end_year})\n",
    "p = requests.post('https://api.bls.gov/publicAPI/v2/timeseries/data/', data=data, headers=headers)\n",
    "\n",
    "# Parse results.\n",
    "j = json.loads(p.text)\n",
    "dfs = []\n",
    "for x in range(0,len(j[\"Results\"]['series'])):\n",
    "    t_df = pd.DataFrame(j[\"Results\"]['series'][x]['data'])\n",
    "    t_df['series'] = j[\"Results\"]['series'][x]['seriesID']\n",
    "    dfs.append(t_df)\n",
    "df = pd.concat(dfs)\n",
    "\n",
    "# Variable df holds a concatenated DataFrame of all series, and dfs holds a list of each series as an individual DataFrame."
   ]
  },
  {
   "cell_type": "code",
   "execution_count": 79,
   "metadata": {},
   "outputs": [
    {
     "data": {
      "text/html": [
       "<div>\n",
       "<style scoped>\n",
       "    .dataframe tbody tr th:only-of-type {\n",
       "        vertical-align: middle;\n",
       "    }\n",
       "\n",
       "    .dataframe tbody tr th {\n",
       "        vertical-align: top;\n",
       "    }\n",
       "\n",
       "    .dataframe thead th {\n",
       "        text-align: right;\n",
       "    }\n",
       "</style>\n",
       "<table border=\"1\" class=\"dataframe\">\n",
       "  <thead>\n",
       "    <tr style=\"text-align: right;\">\n",
       "      <th></th>\n",
       "      <th>year</th>\n",
       "      <th>period</th>\n",
       "      <th>periodName</th>\n",
       "      <th>value</th>\n",
       "      <th>footnotes</th>\n",
       "      <th>series</th>\n",
       "    </tr>\n",
       "  </thead>\n",
       "  <tbody>\n",
       "    <tr>\n",
       "      <th>0</th>\n",
       "      <td>2019</td>\n",
       "      <td>M12</td>\n",
       "      <td>December</td>\n",
       "      <td>256.974</td>\n",
       "      <td>[{}]</td>\n",
       "      <td>CUUR0000SA0</td>\n",
       "    </tr>\n",
       "    <tr>\n",
       "      <th>1</th>\n",
       "      <td>2019</td>\n",
       "      <td>M11</td>\n",
       "      <td>November</td>\n",
       "      <td>257.208</td>\n",
       "      <td>[{}]</td>\n",
       "      <td>CUUR0000SA0</td>\n",
       "    </tr>\n",
       "    <tr>\n",
       "      <th>2</th>\n",
       "      <td>2019</td>\n",
       "      <td>M10</td>\n",
       "      <td>October</td>\n",
       "      <td>257.346</td>\n",
       "      <td>[{}]</td>\n",
       "      <td>CUUR0000SA0</td>\n",
       "    </tr>\n",
       "    <tr>\n",
       "      <th>3</th>\n",
       "      <td>2019</td>\n",
       "      <td>M09</td>\n",
       "      <td>September</td>\n",
       "      <td>256.759</td>\n",
       "      <td>[{}]</td>\n",
       "      <td>CUUR0000SA0</td>\n",
       "    </tr>\n",
       "    <tr>\n",
       "      <th>4</th>\n",
       "      <td>2019</td>\n",
       "      <td>M08</td>\n",
       "      <td>August</td>\n",
       "      <td>256.558</td>\n",
       "      <td>[{}]</td>\n",
       "      <td>CUUR0000SA0</td>\n",
       "    </tr>\n",
       "  </tbody>\n",
       "</table>\n",
       "</div>"
      ],
      "text/plain": [
       "   year period periodName    value footnotes       series\n",
       "0  2019    M12   December  256.974      [{}]  CUUR0000SA0\n",
       "1  2019    M11   November  257.208      [{}]  CUUR0000SA0\n",
       "2  2019    M10    October  257.346      [{}]  CUUR0000SA0\n",
       "3  2019    M09  September  256.759      [{}]  CUUR0000SA0\n",
       "4  2019    M08     August  256.558      [{}]  CUUR0000SA0"
      ]
     },
     "execution_count": 79,
     "metadata": {},
     "output_type": "execute_result"
    }
   ],
   "source": [
    "# Check result.\n",
    "df.head()"
   ]
  }
 ],
 "metadata": {
  "kernelspec": {
   "display_name": "Python 3",
   "language": "python",
   "name": "python3"
  },
  "language_info": {
   "codemirror_mode": {
    "name": "ipython",
    "version": 3
   },
   "file_extension": ".py",
   "mimetype": "text/x-python",
   "name": "python",
   "nbconvert_exporter": "python",
   "pygments_lexer": "ipython3",
   "version": "3.8.5"
  }
 },
 "nbformat": 4,
 "nbformat_minor": 4
}
